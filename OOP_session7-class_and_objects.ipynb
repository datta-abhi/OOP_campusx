{
 "cells": [
  {
   "cell_type": "code",
   "execution_count": 1,
   "id": "7f13e34b",
   "metadata": {},
   "outputs": [],
   "source": [
    "l = [1,2,'hello']\n",
    "s = 'world'"
   ]
  },
  {
   "cell_type": "code",
   "execution_count": 2,
   "id": "08a4a0d9",
   "metadata": {},
   "outputs": [
    {
     "ename": "AttributeError",
     "evalue": "'list' object has no attribute 'upper'",
     "output_type": "error",
     "traceback": [
      "\u001b[1;31m---------------------------------------------------------------------------\u001b[0m",
      "\u001b[1;31mAttributeError\u001b[0m                            Traceback (most recent call last)",
      "Cell \u001b[1;32mIn[2], line 1\u001b[0m\n\u001b[1;32m----> 1\u001b[0m l\u001b[38;5;241m.\u001b[39mupper()\n",
      "\u001b[1;31mAttributeError\u001b[0m: 'list' object has no attribute 'upper'"
     ]
    }
   ],
   "source": [
    "l.upper()"
   ]
  },
  {
   "cell_type": "code",
   "execution_count": 3,
   "id": "eecb056d",
   "metadata": {},
   "outputs": [],
   "source": [
    "l.append(100)"
   ]
  },
  {
   "cell_type": "code",
   "execution_count": 4,
   "id": "704a4ead",
   "metadata": {},
   "outputs": [
    {
     "name": "stdout",
     "output_type": "stream",
     "text": [
      "[1, 2, 'hello', 100]\n"
     ]
    }
   ],
   "source": [
    "print(l)"
   ]
  },
  {
   "cell_type": "code",
   "execution_count": 5,
   "id": "f6ba682f",
   "metadata": {},
   "outputs": [
    {
     "data": {
      "text/plain": [
       "'WORLD'"
      ]
     },
     "execution_count": 5,
     "metadata": {},
     "output_type": "execute_result"
    }
   ],
   "source": [
    "s.upper()"
   ]
  },
  {
   "cell_type": "code",
   "execution_count": 6,
   "id": "e6333eee",
   "metadata": {},
   "outputs": [
    {
     "ename": "AttributeError",
     "evalue": "'str' object has no attribute 'append'",
     "output_type": "error",
     "traceback": [
      "\u001b[1;31m---------------------------------------------------------------------------\u001b[0m",
      "\u001b[1;31mAttributeError\u001b[0m                            Traceback (most recent call last)",
      "Cell \u001b[1;32mIn[6], line 1\u001b[0m\n\u001b[1;32m----> 1\u001b[0m s\u001b[38;5;241m.\u001b[39mappend(\u001b[38;5;241m-\u001b[39m\u001b[38;5;241m999\u001b[39m)\n",
      "\u001b[1;31mAttributeError\u001b[0m: 'str' object has no attribute 'append'"
     ]
    }
   ],
   "source": [
    "s.append(-999)"
   ]
  },
  {
   "cell_type": "markdown",
   "id": "1cc841ce",
   "metadata": {},
   "source": [
    "# Class and Objects"
   ]
  },
  {
   "cell_type": "code",
   "execution_count": 11,
   "id": "eaccd4a6",
   "metadata": {},
   "outputs": [],
   "source": [
    "class MyAtm():\n",
    "    \n",
    "    # create constructor for the class (magic / dunder method)\n",
    "    def __init__(self,pin = '',balance = 0):\n",
    "        self.pin = pin\n",
    "        self.balance = balance"
   ]
  },
  {
   "cell_type": "code",
   "execution_count": 12,
   "id": "03512c7b",
   "metadata": {},
   "outputs": [],
   "source": [
    "default_atm = MyAtm()\n",
    "sbi_atm = MyAtm('qwerty',1000)"
   ]
  },
  {
   "cell_type": "code",
   "execution_count": 13,
   "id": "97c21fe7",
   "metadata": {},
   "outputs": [
    {
     "data": {
      "text/plain": [
       "0"
      ]
     },
     "execution_count": 13,
     "metadata": {},
     "output_type": "execute_result"
    }
   ],
   "source": [
    "default_atm.balance"
   ]
  },
  {
   "cell_type": "code",
   "execution_count": 14,
   "id": "95a88f76",
   "metadata": {},
   "outputs": [
    {
     "data": {
      "text/plain": [
       "1000"
      ]
     },
     "execution_count": 14,
     "metadata": {},
     "output_type": "execute_result"
    }
   ],
   "source": [
    "sbi_atm.balance"
   ]
  },
  {
   "cell_type": "code",
   "execution_count": 4,
   "id": "abab2f4d",
   "metadata": {},
   "outputs": [],
   "source": [
    "class MyAtm():\n",
    "    \n",
    "    # create constructor for the class (magic / dunder method)\n",
    "    def __init__(self,pin = '',balance = 0):\n",
    "        self.pin = pin\n",
    "        self.balance = balance\n",
    "        self.menu()\n",
    "    \n",
    "    def menu(self):\n",
    "        \"\"\"\n",
    "        dsiplay menu for doing functions through the atm\n",
    "        \"\"\"\n",
    "        user_input = input(\"\"\"\n",
    "        Hi! Please chose from the following options:\n",
    "        1. create account pin\n",
    "        2. change account pin\n",
    "        3. check your account balance\n",
    "        4. withdraw from your account\n",
    "        5. Anything else to exit\n",
    "        \"\"\")\n",
    "        \n",
    "        if user_input == '1':\n",
    "            self.create_pin()\n",
    "            \n",
    "        if user_input == '2':\n",
    "            self.change_pin()\n",
    "            \n",
    "        if user_input == '3':\n",
    "            self.check_balance()\n",
    "            \n",
    "        if user_input == '4':\n",
    "            self.withdraw()\n",
    "            \n",
    "        else:\n",
    "            exit()\n",
    "            pass\n",
    "        \n",
    "    def create_pin(self):\n",
    "        \" method to create initial pin and balance of our account\"\n",
    "        user_pin = input(\"Enter your new pin: \")\n",
    "        self.pin = user_pin\n",
    "        \n",
    "        user_balance = int(input(\"Enter your account balance: \"))\n",
    "        self.balance = user_balance\n",
    "        \n",
    "        print(\"PIN created successfully\")\n",
    "        self.menu()\n",
    "        \n",
    "    def change_pin(self):\n",
    "        \"method to change pin of our account\"\n",
    "        \n",
    "        old_pin = input(\"Enter your old pin \")        \n",
    "                \n",
    "        if old_pin == self.pin:\n",
    "            new_pin = input(\"enter your new pin: \")\n",
    "            self.pin = new_pin\n",
    "            print(\"PIN changed successfully\")\n",
    "        else:\n",
    "            print(\"incorrect pin, please try again\")\n",
    "        \n",
    "        self.menu()\n",
    "     \n",
    "    def check_balance(self):\n",
    "        \"method to check account balance\"\n",
    "        \n",
    "        user_pin = input(\"Enter your PIN: \")\n",
    "        \n",
    "        if user_pin == self.pin:\n",
    "            print(f\"Your current balance is $ {self.balance}\")\n",
    "        else:\n",
    "            print(\"incorrect pin, please try again\")\n",
    "            \n",
    "        self.menu()    \n",
    "        \n",
    "    def withdraw(self):\n",
    "        \"method to withdraw money from account\"\n",
    "        \n",
    "        user_pin = input(\"Enter your PIN: \")\n",
    "        \n",
    "        if user_pin == self.pin:\n",
    "            \n",
    "            amt_withdrawn = int(input(\"Enter amount you want to withdraw\"))\n",
    "            \n",
    "            if amt_withdrawn <= self.balance:\n",
    "                self.balance-= amt_withdrawn\n",
    "                print(f\"$ {amt_withdrawn} withdrawn successfully, remaining balance ${self.balance}\")\n",
    "            else:\n",
    "                print(\"Not enough balance\")\n",
    "            \n",
    "        else:\n",
    "            print(\"incorrect pin, please try again\")\n",
    "            \n",
    "        self.menu()   \n",
    "            "
   ]
  },
  {
   "cell_type": "code",
   "execution_count": 3,
   "id": "2b35832e",
   "metadata": {},
   "outputs": [
    {
     "name": "stdout",
     "output_type": "stream",
     "text": [
      "\n",
      "        Hi! Please chose from the following options:\n",
      "        1. create account pin\n",
      "        2. change account pin\n",
      "        3. check your account balance\n",
      "        4. withdraw from your account\n",
      "        5. Anything else to exit\n",
      "        1\n",
      "Enter your new pin: qwerty\n",
      "Enter your account balance: 1200\n",
      "PIN created successfully\n",
      "\n",
      "        Hi! Please chose from the following options:\n",
      "        1. create account pin\n",
      "        2. change account pin\n",
      "        3. check your account balance\n",
      "        4. withdraw from your account\n",
      "        5. Anything else to exit\n",
      "        2\n",
      "Enter your old pinqwerty\n",
      "enter your new pin: 1234\n",
      "PIN changed successfully\n",
      "\n",
      "        Hi! Please chose from the following options:\n",
      "        1. create account pin\n",
      "        2. change account pin\n",
      "        3. check your account balance\n",
      "        4. withdraw from your account\n",
      "        5. Anything else to exit\n",
      "        3\n",
      "Enter your PIN: qwerty\n",
      "incorrect pin, please try again\n",
      "\n",
      "        Hi! Please chose from the following options:\n",
      "        1. create account pin\n",
      "        2. change account pin\n",
      "        3. check your account balance\n",
      "        4. withdraw from your account\n",
      "        5. Anything else to exit\n",
      "        3\n",
      "Enter your PIN: 1234\n",
      "Your current balance is $ 1200\n",
      "\n",
      "        Hi! Please chose from the following options:\n",
      "        1. create account pin\n",
      "        2. change account pin\n",
      "        3. check your account balance\n",
      "        4. withdraw from your account\n",
      "        5. Anything else to exit\n",
      "        4\n",
      "Enter your PIN: qwer\n",
      "incorrect pin, please try again\n",
      "\n",
      "        Hi! Please chose from the following options:\n",
      "        1. create account pin\n",
      "        2. change account pin\n",
      "        3. check your account balance\n",
      "        4. withdraw from your account\n",
      "        5. Anything else to exit\n",
      "        4\n",
      "Enter your PIN: 1234\n",
      "Enter amount you want to withdraw15000\n",
      "Not enough balance\n",
      "\n",
      "        Hi! Please chose from the following options:\n",
      "        1. create account pin\n",
      "        2. change account pin\n",
      "        3. check your account balance\n",
      "        4. withdraw from your account\n",
      "        5. Anything else to exit\n",
      "        4\n",
      "Enter your PIN: 1234\n",
      "Enter amount you want to withdraw10000\n",
      "Not enough balance\n",
      "\n",
      "        Hi! Please chose from the following options:\n",
      "        1. create account pin\n",
      "        2. change account pin\n",
      "        3. check your account balance\n",
      "        4. withdraw from your account\n",
      "        5. Anything else to exit\n",
      "        4\n",
      "Enter your PIN: 1234\n",
      "Enter amount you want to withdraw900\n",
      "$ 900 withdrawn successfully\n",
      "\n",
      "        Hi! Please chose from the following options:\n",
      "        1. create account pin\n",
      "        2. change account pin\n",
      "        3. check your account balance\n",
      "        4. withdraw from your account\n",
      "        5. Anything else to exit\n",
      "        3\n",
      "Enter your PIN: 1234\n",
      "Your current balance is $ 300\n",
      "\n",
      "        Hi! Please chose from the following options:\n",
      "        1. create account pin\n",
      "        2. change account pin\n",
      "        3. check your account balance\n",
      "        4. withdraw from your account\n",
      "        5. Anything else to exit\n",
      "        q\n"
     ]
    }
   ],
   "source": [
    "atm1 = MyAtm()"
   ]
  },
  {
   "cell_type": "markdown",
   "id": "deccfcf0",
   "metadata": {},
   "source": [
    "# Other magic methods using Fraction Class"
   ]
  },
  {
   "cell_type": "code",
   "execution_count": null,
   "id": "204058f9",
   "metadata": {},
   "outputs": [],
   "source": [
    "class Fraction:\n",
    "    self __init__(self)"
   ]
  }
 ],
 "metadata": {
  "kernelspec": {
   "display_name": "Python 3 (ipykernel)",
   "language": "python",
   "name": "python3"
  },
  "language_info": {
   "codemirror_mode": {
    "name": "ipython",
    "version": 3
   },
   "file_extension": ".py",
   "mimetype": "text/x-python",
   "name": "python",
   "nbconvert_exporter": "python",
   "pygments_lexer": "ipython3",
   "version": "3.11.4"
  }
 },
 "nbformat": 4,
 "nbformat_minor": 5
}
